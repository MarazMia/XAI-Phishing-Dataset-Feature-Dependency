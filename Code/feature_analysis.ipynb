{
 "cells": [
  {
   "cell_type": "code",
   "execution_count": 88,
   "metadata": {},
   "outputs": [],
   "source": [
    "import pandas as pd\n",
    "import numpy as np\n",
    "import matplotlib.pyplot as plt\n",
    "import collections"
   ]
  },
  {
   "cell_type": "code",
   "execution_count": 2,
   "metadata": {},
   "outputs": [],
   "source": [
    "data1 = pd.read_csv('../Dataset/dataset_1.csv')\n",
    "data2 = pd.read_csv('../Dataset/dataset_2.csv')"
   ]
  },
  {
   "cell_type": "code",
   "execution_count": 3,
   "metadata": {},
   "outputs": [
    {
     "data": {
      "text/html": [
       "<div>\n",
       "<style scoped>\n",
       "    .dataframe tbody tr th:only-of-type {\n",
       "        vertical-align: middle;\n",
       "    }\n",
       "\n",
       "    .dataframe tbody tr th {\n",
       "        vertical-align: top;\n",
       "    }\n",
       "\n",
       "    .dataframe thead th {\n",
       "        text-align: right;\n",
       "    }\n",
       "</style>\n",
       "<table border=\"1\" class=\"dataframe\">\n",
       "  <thead>\n",
       "    <tr style=\"text-align: right;\">\n",
       "      <th></th>\n",
       "      <th>qty_dot_url</th>\n",
       "      <th>qty_hyphen_url</th>\n",
       "      <th>qty_underline_url</th>\n",
       "      <th>qty_slash_url</th>\n",
       "      <th>qty_questionmark_url</th>\n",
       "      <th>qty_equal_url</th>\n",
       "      <th>qty_at_url</th>\n",
       "      <th>qty_and_url</th>\n",
       "      <th>qty_exclamation_url</th>\n",
       "      <th>qty_space_url</th>\n",
       "      <th>...</th>\n",
       "      <th>qty_ip_resolved</th>\n",
       "      <th>qty_nameservers</th>\n",
       "      <th>qty_mx_servers</th>\n",
       "      <th>ttl_hostname</th>\n",
       "      <th>tls_ssl_certificate</th>\n",
       "      <th>qty_redirects</th>\n",
       "      <th>url_google_index</th>\n",
       "      <th>domain_google_index</th>\n",
       "      <th>url_shortened</th>\n",
       "      <th>phishing</th>\n",
       "    </tr>\n",
       "  </thead>\n",
       "  <tbody>\n",
       "    <tr>\n",
       "      <th>0</th>\n",
       "      <td>3</td>\n",
       "      <td>0</td>\n",
       "      <td>0</td>\n",
       "      <td>1</td>\n",
       "      <td>0</td>\n",
       "      <td>0</td>\n",
       "      <td>0</td>\n",
       "      <td>0</td>\n",
       "      <td>0</td>\n",
       "      <td>0</td>\n",
       "      <td>...</td>\n",
       "      <td>1</td>\n",
       "      <td>2</td>\n",
       "      <td>0</td>\n",
       "      <td>892</td>\n",
       "      <td>0</td>\n",
       "      <td>0</td>\n",
       "      <td>0</td>\n",
       "      <td>0</td>\n",
       "      <td>0</td>\n",
       "      <td>1</td>\n",
       "    </tr>\n",
       "    <tr>\n",
       "      <th>1</th>\n",
       "      <td>5</td>\n",
       "      <td>0</td>\n",
       "      <td>1</td>\n",
       "      <td>3</td>\n",
       "      <td>0</td>\n",
       "      <td>3</td>\n",
       "      <td>0</td>\n",
       "      <td>2</td>\n",
       "      <td>0</td>\n",
       "      <td>0</td>\n",
       "      <td>...</td>\n",
       "      <td>1</td>\n",
       "      <td>2</td>\n",
       "      <td>1</td>\n",
       "      <td>9540</td>\n",
       "      <td>1</td>\n",
       "      <td>0</td>\n",
       "      <td>0</td>\n",
       "      <td>0</td>\n",
       "      <td>0</td>\n",
       "      <td>1</td>\n",
       "    </tr>\n",
       "    <tr>\n",
       "      <th>2</th>\n",
       "      <td>2</td>\n",
       "      <td>0</td>\n",
       "      <td>0</td>\n",
       "      <td>1</td>\n",
       "      <td>0</td>\n",
       "      <td>0</td>\n",
       "      <td>0</td>\n",
       "      <td>0</td>\n",
       "      <td>0</td>\n",
       "      <td>0</td>\n",
       "      <td>...</td>\n",
       "      <td>1</td>\n",
       "      <td>2</td>\n",
       "      <td>3</td>\n",
       "      <td>589</td>\n",
       "      <td>1</td>\n",
       "      <td>0</td>\n",
       "      <td>0</td>\n",
       "      <td>0</td>\n",
       "      <td>0</td>\n",
       "      <td>0</td>\n",
       "    </tr>\n",
       "    <tr>\n",
       "      <th>3</th>\n",
       "      <td>4</td>\n",
       "      <td>0</td>\n",
       "      <td>2</td>\n",
       "      <td>5</td>\n",
       "      <td>0</td>\n",
       "      <td>0</td>\n",
       "      <td>0</td>\n",
       "      <td>0</td>\n",
       "      <td>0</td>\n",
       "      <td>0</td>\n",
       "      <td>...</td>\n",
       "      <td>1</td>\n",
       "      <td>2</td>\n",
       "      <td>0</td>\n",
       "      <td>292</td>\n",
       "      <td>1</td>\n",
       "      <td>0</td>\n",
       "      <td>0</td>\n",
       "      <td>0</td>\n",
       "      <td>0</td>\n",
       "      <td>1</td>\n",
       "    </tr>\n",
       "    <tr>\n",
       "      <th>4</th>\n",
       "      <td>2</td>\n",
       "      <td>0</td>\n",
       "      <td>0</td>\n",
       "      <td>0</td>\n",
       "      <td>0</td>\n",
       "      <td>0</td>\n",
       "      <td>0</td>\n",
       "      <td>0</td>\n",
       "      <td>0</td>\n",
       "      <td>0</td>\n",
       "      <td>...</td>\n",
       "      <td>1</td>\n",
       "      <td>2</td>\n",
       "      <td>1</td>\n",
       "      <td>3597</td>\n",
       "      <td>0</td>\n",
       "      <td>1</td>\n",
       "      <td>0</td>\n",
       "      <td>0</td>\n",
       "      <td>0</td>\n",
       "      <td>0</td>\n",
       "    </tr>\n",
       "  </tbody>\n",
       "</table>\n",
       "<p>5 rows × 112 columns</p>\n",
       "</div>"
      ],
      "text/plain": [
       "   qty_dot_url  qty_hyphen_url  qty_underline_url  qty_slash_url  \\\n",
       "0            3               0                  0              1   \n",
       "1            5               0                  1              3   \n",
       "2            2               0                  0              1   \n",
       "3            4               0                  2              5   \n",
       "4            2               0                  0              0   \n",
       "\n",
       "   qty_questionmark_url  qty_equal_url  qty_at_url  qty_and_url  \\\n",
       "0                     0              0           0            0   \n",
       "1                     0              3           0            2   \n",
       "2                     0              0           0            0   \n",
       "3                     0              0           0            0   \n",
       "4                     0              0           0            0   \n",
       "\n",
       "   qty_exclamation_url  qty_space_url  ...  qty_ip_resolved  qty_nameservers  \\\n",
       "0                    0              0  ...                1                2   \n",
       "1                    0              0  ...                1                2   \n",
       "2                    0              0  ...                1                2   \n",
       "3                    0              0  ...                1                2   \n",
       "4                    0              0  ...                1                2   \n",
       "\n",
       "   qty_mx_servers  ttl_hostname  tls_ssl_certificate  qty_redirects  \\\n",
       "0               0           892                    0              0   \n",
       "1               1          9540                    1              0   \n",
       "2               3           589                    1              0   \n",
       "3               0           292                    1              0   \n",
       "4               1          3597                    0              1   \n",
       "\n",
       "   url_google_index  domain_google_index  url_shortened  phishing  \n",
       "0                 0                    0              0         1  \n",
       "1                 0                    0              0         1  \n",
       "2                 0                    0              0         0  \n",
       "3                 0                    0              0         1  \n",
       "4                 0                    0              0         0  \n",
       "\n",
       "[5 rows x 112 columns]"
      ]
     },
     "execution_count": 3,
     "metadata": {},
     "output_type": "execute_result"
    }
   ],
   "source": [
    "data1.head()"
   ]
  },
  {
   "cell_type": "code",
   "execution_count": 4,
   "metadata": {},
   "outputs": [
    {
     "data": {
      "text/html": [
       "<div>\n",
       "<style scoped>\n",
       "    .dataframe tbody tr th:only-of-type {\n",
       "        vertical-align: middle;\n",
       "    }\n",
       "\n",
       "    .dataframe tbody tr th {\n",
       "        vertical-align: top;\n",
       "    }\n",
       "\n",
       "    .dataframe thead th {\n",
       "        text-align: right;\n",
       "    }\n",
       "</style>\n",
       "<table border=\"1\" class=\"dataframe\">\n",
       "  <thead>\n",
       "    <tr style=\"text-align: right;\">\n",
       "      <th></th>\n",
       "      <th>url</th>\n",
       "      <th>url_length</th>\n",
       "      <th>hostname_length</th>\n",
       "      <th>ip</th>\n",
       "      <th>total_of.</th>\n",
       "      <th>total_of-</th>\n",
       "      <th>total_of@</th>\n",
       "      <th>total_of?</th>\n",
       "      <th>total_of&amp;</th>\n",
       "      <th>total_of=</th>\n",
       "      <th>...</th>\n",
       "      <th>domain_in_title</th>\n",
       "      <th>domain_with_copyright</th>\n",
       "      <th>whois_registered_domain</th>\n",
       "      <th>domain_registration_length</th>\n",
       "      <th>domain_age</th>\n",
       "      <th>web_traffic</th>\n",
       "      <th>dns_record</th>\n",
       "      <th>google_index</th>\n",
       "      <th>page_rank</th>\n",
       "      <th>status</th>\n",
       "    </tr>\n",
       "  </thead>\n",
       "  <tbody>\n",
       "    <tr>\n",
       "      <th>0</th>\n",
       "      <td>http://www.progarchives.com/album.asp?id=61737</td>\n",
       "      <td>46</td>\n",
       "      <td>20</td>\n",
       "      <td>0</td>\n",
       "      <td>3</td>\n",
       "      <td>0</td>\n",
       "      <td>0</td>\n",
       "      <td>1</td>\n",
       "      <td>0</td>\n",
       "      <td>1</td>\n",
       "      <td>...</td>\n",
       "      <td>1</td>\n",
       "      <td>1</td>\n",
       "      <td>0</td>\n",
       "      <td>627</td>\n",
       "      <td>6678</td>\n",
       "      <td>78526</td>\n",
       "      <td>0</td>\n",
       "      <td>0</td>\n",
       "      <td>5</td>\n",
       "      <td>phishing</td>\n",
       "    </tr>\n",
       "    <tr>\n",
       "      <th>1</th>\n",
       "      <td>http://signin.eday.co.uk.ws.edayisapi.dllsign....</td>\n",
       "      <td>128</td>\n",
       "      <td>120</td>\n",
       "      <td>0</td>\n",
       "      <td>10</td>\n",
       "      <td>0</td>\n",
       "      <td>0</td>\n",
       "      <td>0</td>\n",
       "      <td>0</td>\n",
       "      <td>0</td>\n",
       "      <td>...</td>\n",
       "      <td>1</td>\n",
       "      <td>0</td>\n",
       "      <td>0</td>\n",
       "      <td>300</td>\n",
       "      <td>65</td>\n",
       "      <td>0</td>\n",
       "      <td>0</td>\n",
       "      <td>1</td>\n",
       "      <td>0</td>\n",
       "      <td>phishing</td>\n",
       "    </tr>\n",
       "    <tr>\n",
       "      <th>2</th>\n",
       "      <td>http://www.avevaconstruction.com/blesstool/ima...</td>\n",
       "      <td>52</td>\n",
       "      <td>25</td>\n",
       "      <td>0</td>\n",
       "      <td>3</td>\n",
       "      <td>0</td>\n",
       "      <td>0</td>\n",
       "      <td>0</td>\n",
       "      <td>0</td>\n",
       "      <td>0</td>\n",
       "      <td>...</td>\n",
       "      <td>1</td>\n",
       "      <td>0</td>\n",
       "      <td>0</td>\n",
       "      <td>119</td>\n",
       "      <td>1707</td>\n",
       "      <td>0</td>\n",
       "      <td>0</td>\n",
       "      <td>1</td>\n",
       "      <td>0</td>\n",
       "      <td>phishing</td>\n",
       "    </tr>\n",
       "    <tr>\n",
       "      <th>3</th>\n",
       "      <td>http://www.jp519.com/</td>\n",
       "      <td>21</td>\n",
       "      <td>13</td>\n",
       "      <td>0</td>\n",
       "      <td>2</td>\n",
       "      <td>0</td>\n",
       "      <td>0</td>\n",
       "      <td>0</td>\n",
       "      <td>0</td>\n",
       "      <td>0</td>\n",
       "      <td>...</td>\n",
       "      <td>1</td>\n",
       "      <td>1</td>\n",
       "      <td>0</td>\n",
       "      <td>130</td>\n",
       "      <td>1331</td>\n",
       "      <td>0</td>\n",
       "      <td>0</td>\n",
       "      <td>0</td>\n",
       "      <td>0</td>\n",
       "      <td>legitimate</td>\n",
       "    </tr>\n",
       "    <tr>\n",
       "      <th>4</th>\n",
       "      <td>https://www.velocidr1.com/</td>\n",
       "      <td>28</td>\n",
       "      <td>19</td>\n",
       "      <td>0</td>\n",
       "      <td>2</td>\n",
       "      <td>0</td>\n",
       "      <td>0</td>\n",
       "      <td>0</td>\n",
       "      <td>0</td>\n",
       "      <td>0</td>\n",
       "      <td>...</td>\n",
       "      <td>0</td>\n",
       "      <td>0</td>\n",
       "      <td>0</td>\n",
       "      <td>164</td>\n",
       "      <td>1662</td>\n",
       "      <td>312044</td>\n",
       "      <td>0</td>\n",
       "      <td>0</td>\n",
       "      <td>4</td>\n",
       "      <td>legitimate</td>\n",
       "    </tr>\n",
       "  </tbody>\n",
       "</table>\n",
       "<p>5 rows × 86 columns</p>\n",
       "</div>"
      ],
      "text/plain": [
       "                                                 url  url_length  \\\n",
       "0     http://www.progarchives.com/album.asp?id=61737          46   \n",
       "1  http://signin.eday.co.uk.ws.edayisapi.dllsign....         128   \n",
       "2  http://www.avevaconstruction.com/blesstool/ima...          52   \n",
       "3                              http://www.jp519.com/          21   \n",
       "4                         https://www.velocidr1.com/          28   \n",
       "\n",
       "   hostname_length  ip  total_of.  total_of-  total_of@  total_of?  total_of&  \\\n",
       "0               20   0          3          0          0          1          0   \n",
       "1              120   0         10          0          0          0          0   \n",
       "2               25   0          3          0          0          0          0   \n",
       "3               13   0          2          0          0          0          0   \n",
       "4               19   0          2          0          0          0          0   \n",
       "\n",
       "   total_of=  ...  domain_in_title  domain_with_copyright  \\\n",
       "0          1  ...                1                      1   \n",
       "1          0  ...                1                      0   \n",
       "2          0  ...                1                      0   \n",
       "3          0  ...                1                      1   \n",
       "4          0  ...                0                      0   \n",
       "\n",
       "   whois_registered_domain  domain_registration_length  domain_age  \\\n",
       "0                        0                         627        6678   \n",
       "1                        0                         300          65   \n",
       "2                        0                         119        1707   \n",
       "3                        0                         130        1331   \n",
       "4                        0                         164        1662   \n",
       "\n",
       "   web_traffic  dns_record  google_index  page_rank      status  \n",
       "0        78526           0             0          5    phishing  \n",
       "1            0           0             1          0    phishing  \n",
       "2            0           0             1          0    phishing  \n",
       "3            0           0             0          0  legitimate  \n",
       "4       312044           0             0          4  legitimate  \n",
       "\n",
       "[5 rows x 86 columns]"
      ]
     },
     "execution_count": 4,
     "metadata": {},
     "output_type": "execute_result"
    }
   ],
   "source": [
    "data2.head()"
   ]
  },
  {
   "cell_type": "code",
   "execution_count": 5,
   "metadata": {},
   "outputs": [],
   "source": [
    "# 1. qty_dot_url (Dataset 1) - total_of. (Dataset 2)\n",
    "# 2. qty_hyphen_url (Dataset 1) - total_of- (Dataset 2)\n",
    "# 3. qty_underline_url (Dataset 1) - total_of_ (Dataset 2)\n",
    "# 4. qty_slash_url (Dataset 1) - total_of/ (Dataset 2)\n",
    "# 5. qty_questionmark_url (Dataset 1) - total_of? (Dataset 2)\n",
    "# 6. qty_equal_url (Dataset 1) - total_of= (Dataset 2)\n",
    "# 7. qty_at_url (Dataset 1) - total_of@ (Dataset 2)\n",
    "# 8. qty_and_url (Dataset 1) - total_of& (Dataset 2)\n",
    "# 9. qty_tilde_url (Dataset 1) - total_of~ (Dataset 2)\n",
    "# 10. qty_comma_url (Dataset 1) - total_of, (Dataset 2)\n",
    "# 11. qty_asterisk_url (Dataset 1) - total_of* (Dataset 2)\n",
    "# 12. qty_percent_url (Dataset 1) - total_of% (Dataset 2)\n",
    "# 13. qty_dollar_url (Dataset 1) - total_of$ (Dataset 2)\n",
    "# 14. url_google_index (Dataset 1) - google_index (Dataset 2)\n",
    "# 15. tld_present_params (Dataset 1) - tld_in_path (Dataset 2)\n",
    "# 16. qty_redirects (Dataset 1) - nb_redirection (Dataset 2)\n",
    "# 17. length_url (Dataset 1) - url_length (Dataset 2)\n",
    "# 18. url_shortened (Dataset 1) - shortening_service (Dataset 2)\n",
    "# 19. domain_length (Dataset 1) - hostname_length (Dataset 2)\n",
    "# 20. domain_in_ip (Dataset 1) - ip (Dataset 2)"
   ]
  },
  {
   "cell_type": "code",
   "execution_count": 6,
   "metadata": {},
   "outputs": [],
   "source": [
    "data1 = data1[['qty_dot_url', 'qty_hyphen_url', 'qty_underline_url', 'qty_slash_url', 'qty_questionmark_url', 'qty_equal_url', 'qty_at_url', 'qty_and_url', 'qty_tilde_url', 'qty_comma_url', 'qty_asterisk_url', 'qty_percent_url', 'qty_dollar_url', 'qty_redirects', 'domain_length', 'length_url', 'url_google_index', 'tld_present_params','url_shortened', 'domain_in_ip', 'phishing']]"
   ]
  },
  {
   "cell_type": "code",
   "execution_count": 7,
   "metadata": {},
   "outputs": [
    {
     "data": {
      "text/plain": [
       "21"
      ]
     },
     "execution_count": 7,
     "metadata": {},
     "output_type": "execute_result"
    }
   ],
   "source": [
    "len(data1.columns)"
   ]
  },
  {
   "cell_type": "code",
   "execution_count": 8,
   "metadata": {},
   "outputs": [],
   "source": [
    "data2 = data2[['total_of.', 'total_of-', 'total_of_', 'total_of/', 'total_of?', 'total_of=', 'total_of@', 'total_of&', 'total_of~', 'total_of,', 'total_of*', 'total_of%', 'total_of$', 'nb_redirection', 'hostname_length', 'url_length',  'google_index', 'tld_in_path', 'shortening_service', 'ip', 'status']]"
   ]
  },
  {
   "cell_type": "code",
   "execution_count": 9,
   "metadata": {},
   "outputs": [
    {
     "data": {
      "text/plain": [
       "21"
      ]
     },
     "execution_count": 9,
     "metadata": {},
     "output_type": "execute_result"
    }
   ],
   "source": [
    "len(data2.columns)"
   ]
  },
  {
   "cell_type": "code",
   "execution_count": 10,
   "metadata": {},
   "outputs": [],
   "source": [
    "data2['status'] = data2['status'].map({'phishing':1,'legitimate':0})"
   ]
  },
  {
   "cell_type": "code",
   "execution_count": 11,
   "metadata": {},
   "outputs": [],
   "source": [
    "x = data1['url_google_index'].to_list()\n",
    "for i in range(len(x)):\n",
    "    if x[i]<0:\n",
    "        x[i]=0\n",
    "data1['url_google_index'] = x"
   ]
  },
  {
   "cell_type": "code",
   "execution_count": 12,
   "metadata": {},
   "outputs": [],
   "source": [
    "x = data1['tld_present_params'].to_list()\n",
    "for i in range(len(x)):\n",
    "    if x[i]<0:\n",
    "        x[i]=0\n",
    "data1['tld_present_params'] = x"
   ]
  },
  {
   "cell_type": "code",
   "execution_count": 13,
   "metadata": {},
   "outputs": [],
   "source": [
    "x = data1['qty_redirects'].to_list()\n",
    "for i in range(len(x)):\n",
    "    if x[i]<0:\n",
    "        x[i]=0\n",
    "data1['qty_redirects'] = x"
   ]
  },
  {
   "cell_type": "code",
   "execution_count": 14,
   "metadata": {},
   "outputs": [],
   "source": [
    "def column_statistics(df):\n",
    "    # Calculate descriptive statistics\n",
    "    desc_stats = df.describe().T\n",
    "    \n",
    "    # Calculate additional statistics\n",
    "    median = df.median()\n",
    "    mode = df.mode().iloc[0]\n",
    "    min_values = df.min()\n",
    "    max_values = df.max()\n",
    "    mean_values = df.mean()\n",
    "    std_values = df.std()\n",
    "    percentiles = df.quantile([0.25, 0.5, 0.75]).T\n",
    "    \n",
    "    # Add median and mode to descriptive statistics\n",
    "    desc_stats['median'] = median\n",
    "    desc_stats['mode'] = mode\n",
    "    desc_stats['25%'] = percentiles[0.25]\n",
    "    desc_stats['50%'] = percentiles[0.5]\n",
    "    desc_stats['75%'] = percentiles[0.75]\n",
    "    \n",
    "    # Rearrange columns to desired order\n",
    "    desc_stats = desc_stats[['min', 'max', 'mean', 'std']]#, 'median', 'mode', '25%', '50%', '75%']]\n",
    "    \n",
    "    return desc_stats"
   ]
  },
  {
   "cell_type": "code",
   "execution_count": 15,
   "metadata": {},
   "outputs": [],
   "source": [
    "a = column_statistics(data1[data1['phishing']==1])"
   ]
  },
  {
   "cell_type": "code",
   "execution_count": 16,
   "metadata": {},
   "outputs": [],
   "source": [
    "b = column_statistics(data2[data2['status']==1])"
   ]
  },
  {
   "cell_type": "code",
   "execution_count": 17,
   "metadata": {},
   "outputs": [],
   "source": [
    "c = column_statistics(data1[data1['phishing']==0])"
   ]
  },
  {
   "cell_type": "code",
   "execution_count": 18,
   "metadata": {},
   "outputs": [],
   "source": [
    "d = column_statistics(data2[data2['status']==0])"
   ]
  },
  {
   "cell_type": "code",
   "execution_count": 19,
   "metadata": {},
   "outputs": [
    {
     "data": {
      "text/plain": [
       "qty_dot_url              2.037638\n",
       "qty_hyphen_url           0.165776\n",
       "qty_underline_url        0.022483\n",
       "qty_slash_url            0.319379\n",
       "qty_questionmark_url     0.000190\n",
       "qty_equal_url            0.023707\n",
       "qty_at_url               0.000034\n",
       "qty_and_url              0.011828\n",
       "qty_tilde_url            0.000328\n",
       "qty_comma_url            0.000586\n",
       "qty_asterisk_url         0.000000\n",
       "qty_percent_url          0.075241\n",
       "qty_dollar_url           0.000000\n",
       "qty_redirects            0.472121\n",
       "domain_length           18.514121\n",
       "length_url              21.245690\n",
       "url_google_index         0.003345\n",
       "tld_present_params       0.000328\n",
       "url_shortened            0.000155\n",
       "domain_in_ip             0.000259\n",
       "phishing                 0.000000\n",
       "Name: mean, dtype: float64"
      ]
     },
     "execution_count": 19,
     "metadata": {},
     "output_type": "execute_result"
    }
   ],
   "source": [
    "c['mean']"
   ]
  },
  {
   "cell_type": "code",
   "execution_count": 57,
   "metadata": {},
   "outputs": [
    {
     "data": {
      "image/png": "[encoded data removed]",
      "text/plain": [
       "<Figure size 500x500 with 1 Axes>"
      ]
     },
     "metadata": {},
     "output_type": "display_data"
    }
   ],
   "source": [
    "plt.figure(figsize=(5,5))\n",
    "\n",
    "plt.plot(c['mean'][:-7], data1.columns[:-7], marker='o', linestyle='-')\n",
    "plt.plot(d['mean'][:-7], data1.columns[:-7], marker='x', linestyle='--')\n",
    "\n",
    "plt.plot(a['mean'][:-7], data1.columns[:-7], marker='+', linestyle='dotted', color = 'r')\n",
    "plt.plot(b['mean'][:-7], data1.columns[:-7], marker='v', linestyle='dashdot', color='g')\n",
    "\n",
    "\n",
    "# plt.plot(c['min'][:-7], data1.columns[:-7], marker='o')\n",
    "# plt.plot(d['min'][:-7], data1.columns[:-7], marker='x')\n",
    "\n",
    "# plt.plot(c['max'][:-7], data1.columns[:-7], marker='o')\n",
    "# plt.plot(d['max'][:-7], data1.columns[:-7], marker='x')\n",
    "\n",
    "# plt.plot(c['std'][:-7], data1.columns[:-7], marker='o')\n",
    "# plt.plot(d['std'][:-7], data1.columns[:-7], marker='x')\n",
    "plt.legend(['D\\u2081 benign', 'D\\u2082 benign', \"D\\u2081 phishing\", \"D\\u2082 phishing\"], loc=\"best\")\n",
    "plt.xlabel('Avg. value of the features')\n",
    "# plt.title('Mean values of the numerical dataset columns')\n",
    "plt.show()"
   ]
  },
  {
   "cell_type": "code",
   "execution_count": 45,
   "metadata": {},
   "outputs": [
    {
     "data": {
      "image/png": "[encoded data removed]",
      "text/plain": [
       "<Figure size 575x50 with 1 Axes>"
      ]
     },
     "metadata": {},
     "output_type": "display_data"
    }
   ],
   "source": [
    "plt.figure(figsize=(5.75,0.5))\n",
    "\n",
    "plt.plot(c['mean'][-7:-5], data1.columns[-7:-5], marker='.', linestyle='-')\n",
    "plt.plot(d['mean'][-7:-5], data1.columns[-7:-5], marker='.', linestyle='--')\n",
    "\n",
    "plt.plot(a['mean'][-7:-5], data1.columns[-7:-5], marker='.', linestyle='dotted', color = 'r')\n",
    "plt.plot(b['mean'][-7:-5], data1.columns[-7:-5], marker='.', linestyle='dashdot', color='g')\n",
    "\n",
    "\n",
    "# plt.plot(c['min'][-7:-5], data1.columns[-7:-5], marker='o')\n",
    "# plt.plot(d['min'][-7:-5], data1.columns[-7:-5], marker='x')\n",
    "\n",
    "# plt.plot(c['max'][-7:-5], data1.columns[-7:-5], marker='o')\n",
    "# plt.plot(d['max'][-7:-5], data1.columns[-7:-5], marker='x')\n",
    "\n",
    "# plt.plot(c['std'][-7:-5], data1.columns[-7:-5], marker='o')\n",
    "# plt.plot(d['std'][-7:-5], data1.columns[-7:-5], marker='x')\n",
    "# plt.legend(['dataset1 benign', 'dataset2 benign', \"dataset1 phishing\", \"dataset2 phishing\"], loc=\"best\")\n",
    "# plt.title('Mean values of the numerical dataset columns')\n",
    "plt.show()"
   ]
  },
  {
   "cell_type": "code",
   "execution_count": 21,
   "metadata": {},
   "outputs": [],
   "source": [
    "# plt.figure(figsize=(5,5))\n",
    "\n",
    "# plt.plot(a['mean'][:-1], data1.columns[:-1], marker='o')\n",
    "# plt.plot(b['mean'][:-1], data1.columns[:-1], marker='x')\n",
    "# # plt.plot(a['min'][:-1], data1.columns[:-1], marker='o')\n",
    "# # plt.plot(b['min'][:-1], data1.columns[:-1], marker='x')\n",
    "\n",
    "# # plt.plot(a['max'][:-1], data1.columns[:-1], marker='o')\n",
    "# # plt.plot(b['max'][:-1], data1.columns[:-1], marker='x')\n",
    "\n",
    "# # plt.plot(a['std'][:-1], data1.columns[:-1], marker='o')\n",
    "# # plt.plot(b['std'][:-1], data1.columns[:-1], marker='x')\n",
    "# plt.legend(['mean_dataset_1', 'mean_dataset_2', \"min_dataset_1\", \"min_dataset_2\", \"max_dataset_1\", \"max_dataset_2\", 'std_dataset_1', 'std_dataset_2'], loc=\"lower right\")\n",
    "# plt.show()"
   ]
  },
  {
   "cell_type": "code",
   "execution_count": 22,
   "metadata": {},
   "outputs": [
    {
     "name": "stdout",
     "output_type": "stream",
     "text": [
      "url_google_index\n",
      "0    88432\n",
      "1      215\n",
      "Name: count, dtype: int64\n",
      "tld_present_params\n",
      "0    86472\n",
      "1     2175\n",
      "Name: count, dtype: int64\n",
      "url_shortened\n",
      "0    88161\n",
      "1      486\n",
      "Name: count, dtype: int64\n",
      "domain_in_ip\n",
      "0    88446\n",
      "1      201\n",
      "Name: count, dtype: int64\n"
     ]
    }
   ],
   "source": [
    "print(data1['url_google_index'].value_counts())\n",
    "print(data1['tld_present_params'].value_counts())\n",
    "print(data1['url_shortened'].value_counts())\n",
    "print(data1['domain_in_ip'].value_counts())"
   ]
  },
  {
   "cell_type": "code",
   "execution_count": 23,
   "metadata": {},
   "outputs": [
    {
     "name": "stdout",
     "output_type": "stream",
     "text": [
      "google_index\n",
      "1    10376\n",
      "0     9055\n",
      "Name: count, dtype: int64\n",
      "tld_in_path\n",
      "0    18158\n",
      "1     1273\n",
      "Name: count, dtype: int64\n",
      "shortening_service\n",
      "0    17035\n",
      "1     2396\n",
      "Name: count, dtype: int64\n",
      "ip\n",
      "1    12621\n",
      "0     6810\n",
      "Name: count, dtype: int64\n"
     ]
    }
   ],
   "source": [
    "print(data2['google_index'].value_counts())\n",
    "print(data2['tld_in_path'].value_counts())\n",
    "print(data2['shortening_service'].value_counts())\n",
    "print(data2['ip'].value_counts())"
   ]
  },
  {
   "cell_type": "code",
   "execution_count": 67,
   "metadata": {},
   "outputs": [
    {
     "name": "stdout",
     "output_type": "stream",
     "text": [
      "{0: 88432, 1: 215}\n"
     ]
    },
    {
     "data": {
      "text/plain": [
       "[{0: 99.7574650016357, 1: 0.24253499836429884},\n",
       " {0: 97.54644827236116, 1: 2.453551727638837},\n",
       " {0: 99.4517580967207, 1: 0.5482419032792988},\n",
       " {0: 99.77325797827338, 1: 0.22674202172662358}]"
      ]
     },
     "execution_count": 67,
     "metadata": {},
     "output_type": "execute_result"
    }
   ],
   "source": [
    "d1 = dict(data1['url_google_index'].value_counts())\n",
    "d2 = dict(data1['tld_present_params'].value_counts())\n",
    "d3 = dict(data1['url_shortened'].value_counts())\n",
    "d4 = dict(data1['domain_in_ip'].value_counts())\n",
    "\n",
    "print(d1)\n",
    "d1_dict_list = [dict(sorted(d1.items())), dict(sorted(d2.items())), dict(sorted(d3.items())), dict(sorted(d4.items()))]\n",
    "\n",
    "for i in range(len(d1_dict_list)):\n",
    "    ss = sum(d1_dict_list[i].values())\n",
    "    d1_dict_list[i][0]=100*d1_dict_list[i][0]/ss\n",
    "    d1_dict_list[i][1]=100*d1_dict_list[i][1]/ss\n",
    "\n",
    "d1_dict_list"
   ]
  },
  {
   "cell_type": "code",
   "execution_count": 25,
   "metadata": {},
   "outputs": [
    {
     "data": {
      "text/plain": [
       "[{0: 46.600792547990324, 1: 53.399207452009676},\n",
       " {0: 93.44861304101693, 1: 6.551386958983068},\n",
       " {0: 87.66918841027224, 1: 12.330811589727755},\n",
       " {0: 35.04708970202254, 1: 64.95291029797745}]"
      ]
     },
     "execution_count": 25,
     "metadata": {},
     "output_type": "execute_result"
    }
   ],
   "source": [
    "d5 = dict(data2['google_index'].value_counts())\n",
    "d6 = dict(data2['tld_in_path'].value_counts())\n",
    "d7 = dict(data2['shortening_service'].value_counts())\n",
    "d8 = dict(data2['ip'].value_counts())\n",
    "\n",
    "d2_dict_list = [dict(sorted(d5.items())), dict(sorted(d6.items())), dict(sorted(d7.items())), dict(sorted(d8.items()))]\n",
    "\n",
    "for i in range(len(d2_dict_list)):\n",
    "    ss = sum(d2_dict_list[i].values())\n",
    "    d2_dict_list[i][0]=100*d2_dict_list[i][0]/ss\n",
    "    d2_dict_list[i][1]=100*d2_dict_list[i][1]/ss\n",
    "\n",
    "d2_dict_list"
   ]
  },
  {
   "cell_type": "code",
   "execution_count": 66,
   "metadata": {},
   "outputs": [
    {
     "name": "stdout",
     "output_type": "stream",
     "text": [
      "[{0: 99.7574650016357, 1: 0.24253499836429884}, {0: 97.54644827236116, 1: 2.453551727638837}, {0: 99.4517580967207, 1: 0.5482419032792988}, {0: 99.77325797827338, 1: 0.22674202172662358}]\n",
      "[{0: 46.600792547990324, 1: 53.399207452009676}, {0: 93.44861304101693, 1: 6.551386958983068}, {0: 87.66918841027224, 1: 12.330811589727755}, {0: 35.04708970202254, 1: 64.95291029797745}]\n"
     ]
    },
    {
     "data": {
      "image/png": "[encoded data removed]",
      "text/plain": [
       "<Figure size 640x480 with 1 Axes>"
      ]
     },
     "metadata": {},
     "output_type": "display_data"
    },
    {
     "data": {
      "text/plain": [
       "<Figure size 575x500 with 0 Axes>"
      ]
     },
     "metadata": {},
     "output_type": "display_data"
    }
   ],
   "source": [
    "import matplotlib.pyplot as plt\n",
    "import numpy as np\n",
    "\n",
    "def plot_split_bars_side_by_side_horizontal(data_dicts1, data_dicts2, labels=None, colors1=('C3', 'g'), colors2=('C1', '#1f77b4'), bar_height=0.4):\n",
    "    \"\"\"\n",
    "    Plots a horizontal bar graph with two sets of bars side by side, where each bar is split into two segments\n",
    "    corresponding to the values of two key-value pairs in each dictionary.\n",
    "\n",
    "    Parameters:\n",
    "    - data_dicts1: List of dictionaries, each containing two key-value pairs {1: value1, 0: value0} (first set).\n",
    "    - data_dicts2: List of dictionaries, each containing two key-value pairs {1: value1, 0: value0} (second set).\n",
    "    - labels: List of labels for each pair of bars (optional).\n",
    "    - colors1: Tuple of two colors for the two parts of each bar from the first set (default is ('skyblue', 'pink')).\n",
    "    - colors2: Tuple of two colors for the two parts of each bar from the second set (default is ('lightgreen', 'salmon')).\n",
    "    - bar_height: Height of each bar (default is 0.4).\n",
    "    \"\"\"\n",
    "\n",
    "    # Number of groups (bars)\n",
    "    n_bars = len(data_dicts1)\n",
    "\n",
    "    # If no labels are provided, create default labels\n",
    "    if labels is None:\n",
    "        labels = [f'Group {i+1}' for i in range(n_bars)]\n",
    "\n",
    "    # Create the figure and axis\n",
    "    fig, ax = plt.subplots()\n",
    "\n",
    "    # Define the positions for the bars\n",
    "    index = np.arange(n_bars)\n",
    "\n",
    "    # Loop through each pair of dictionaries (data_dicts1 and data_dicts2)\n",
    "    for i in range(n_bars):\n",
    "        # Extract the two parts for each dictionary in the first set (data_dicts1)\n",
    "        part1_1 = data_dicts1[i][1]\n",
    "        part0_1 = data_dicts1[i][0]\n",
    "\n",
    "        # Plot the first part of the bar (first set)\n",
    "        ax.barh(index[i] - bar_height/2, part1_1, color=colors1[0], height=bar_height, label='D\\u2081 yes(1)' if i == 0 else \"\")\n",
    "        # Plot the second part of the bar (first set), stacked on top of the first\n",
    "        ax.barh(index[i] - bar_height/2, part0_1, left=part1_1, color=colors1[1], height=bar_height, label='D\\u2081 no(0)' if i == 0 else \"\")\n",
    "\n",
    "        # Extract the two parts for each dictionary in the second set (data_dicts2)\n",
    "        part1_2 = data_dicts2[i][1]\n",
    "        part0_2 = data_dicts2[i][0]\n",
    "\n",
    "        # Plot the first part of the bar (second set)\n",
    "        ax.barh(index[i] + bar_height/2, part1_2, color=colors2[0], height=bar_height, label='D\\u2082 yes' if i == 0 else \"\")\n",
    "        # Plot the second part of the bar (second set), stacked on top of the first\n",
    "        ax.barh(index[i] + bar_height/2, part0_2, left=part1_2, color=colors2[1], height=bar_height, label='D\\u2082 no' if i == 0 else \"\")\n",
    "\n",
    "    # Add labels, title, and customized legend at the bottom in a single line\n",
    "    ax.set_yticks(index)\n",
    "    ax.set_yticklabels(labels)\n",
    "    ax.set_xlabel('Stacked Percentage Bar')\n",
    "    # ax.set_title('H')\n",
    "\n",
    "    # Add legend at the bottom, in one line\n",
    "    ax.legend(loc='upper center', bbox_to_anchor=(0.5, -0.1), ncol=4, frameon=False)\n",
    "\n",
    "    # Adjust layout to make space for the legend\n",
    "    plt.tight_layout(rect=[0, 0.05, 1, 1])  # Adds space for the legend at the bottom\n",
    "\n",
    "    plt.figure(figsize=(5.75,5))\n",
    "\n",
    "    # Show the plot\n",
    "    plt.show()\n",
    "\n",
    "print(d1_dict_list)\n",
    "print(d2_dict_list)\n",
    "plot_split_bars_side_by_side_horizontal(d1_dict_list, d2_dict_list, labels=data1.columns[-5:-1])"
   ]
  },
  {
   "cell_type": "code",
   "execution_count": 70,
   "metadata": {},
   "outputs": [],
   "source": [
    "d1_phish = data1[data1['phishing']==1]\n",
    "d1_ben = data1[data1['phishing']==0]\n",
    "\n",
    "d2_phish = data2[data2['status']==1]\n",
    "d2_ben = data2[data2['status']==0]"
   ]
  },
  {
   "cell_type": "code",
   "execution_count": 90,
   "metadata": {},
   "outputs": [
    {
     "name": "stdout",
     "output_type": "stream",
     "text": [
      "OrderedDict([(0, 99.93147779554279), (1, 0.06852220445720625)])\n",
      "OrderedDict([(0, 92.96505367572682), (1, 7.034946324273175)])\n",
      "OrderedDict([(0, 98.44356707018632), (1, 1.556432929813685)])\n",
      "OrderedDict([(0, 99.39308904623617), (1, 0.6069109537638268)])\n"
     ]
    }
   ],
   "source": [
    "d1_google_phish_dict = dict(d1_phish['url_google_index'].value_counts())\n",
    "for i in d1_google_phish_dict:\n",
    "    d1_google_phish_dict[i] = 100*d1_google_phish_dict[i]/len(d1_phish['url_google_index'])\n",
    "d1_google_phish_dict = collections.OrderedDict(sorted(d1_google_phish_dict.items()))\n",
    "print(d1_google_phish_dict)\n",
    "\n",
    "d1_tld_phish_dict = dict(d1_phish['tld_present_params'].value_counts())\n",
    "for i in d1_tld_phish_dict:\n",
    "    d1_tld_phish_dict[i] = 100*d1_tld_phish_dict[i]/len(d1_phish['tld_present_params'])\n",
    "d1_tld_phish_dict = collections.OrderedDict(sorted(d1_tld_phish_dict.items()))\n",
    "print(d1_tld_phish_dict)\n",
    "\n",
    "d1_url_phish_dict = dict(d1_phish['url_shortened'].value_counts())\n",
    "for i in d1_url_phish_dict:\n",
    "    d1_url_phish_dict[i] = 100*d1_url_phish_dict[i]/len(d1_phish['url_shortened'])\n",
    "d1_url_phish_dict = collections.OrderedDict(sorted(d1_url_phish_dict.items()))\n",
    "print(d1_url_phish_dict)\n",
    "\n",
    "d1_dom_phish_dict = dict(d1_phish['domain_in_ip'].value_counts())\n",
    "for i in d1_dom_phish_dict:\n",
    "    d1_dom_phish_dict[i] = 100*d1_dom_phish_dict[i]/len(d1_phish['domain_in_ip'])\n",
    "d1_dom_phish_dict = collections.OrderedDict(sorted(d1_dom_phish_dict.items()))\n",
    "print(d1_dom_phish_dict)"
   ]
  },
  {
   "cell_type": "code",
   "execution_count": 91,
   "metadata": {},
   "outputs": [
    {
     "name": "stdout",
     "output_type": "stream",
     "text": [
      "OrderedDict([(0, 99.6655172413793), (1, 0.33448275862068966)])\n",
      "OrderedDict([(0, 99.96724137931035), (1, 0.032758620689655175)])\n",
      "OrderedDict([(0, 99.98448275862069), (1, 0.015517241379310345)])\n",
      "OrderedDict([(0, 99.97413793103448), (1, 0.02586206896551724)])\n"
     ]
    }
   ],
   "source": [
    "d1_google_ben_dict = dict(d1_ben['url_google_index'].value_counts())\n",
    "for i in d1_google_ben_dict:\n",
    "    d1_google_ben_dict[i] = 100*d1_google_ben_dict[i]/len(d1_ben['url_google_index'])\n",
    "d1_google_ben_dict = collections.OrderedDict(sorted(d1_google_ben_dict.items()))\n",
    "print(d1_google_ben_dict)\n",
    "\n",
    "d1_tld_ben_dict = dict(d1_ben['tld_present_params'].value_counts())\n",
    "for i in d1_tld_ben_dict:\n",
    "    d1_tld_ben_dict[i] = 100*d1_tld_ben_dict[i]/len(d1_ben['tld_present_params'])\n",
    "d1_tld_ben_dict = collections.OrderedDict(sorted(d1_tld_ben_dict.items()))\n",
    "print(d1_tld_ben_dict)\n",
    "\n",
    "d1_url_ben_dict = dict(d1_ben['url_shortened'].value_counts())\n",
    "for i in d1_url_ben_dict:\n",
    "    d1_url_ben_dict[i] = 100*d1_url_ben_dict[i]/len(d1_ben['url_shortened'])\n",
    "d1_url_ben_dict = collections.OrderedDict(sorted(d1_url_ben_dict.items()))\n",
    "print(d1_url_ben_dict)\n",
    "\n",
    "d1_dom_ben_dict = dict(d1_ben['domain_in_ip'].value_counts())\n",
    "for i in d1_dom_ben_dict:\n",
    "    d1_dom_ben_dict[i] = 100*d1_dom_ben_dict[i]/len(d1_ben['domain_in_ip'])\n",
    "d1_dom_ben_dict = collections.OrderedDict(sorted(d1_dom_ben_dict.items()))\n",
    "print(d1_dom_ben_dict)"
   ]
  },
  {
   "cell_type": "code",
   "execution_count": 92,
   "metadata": {},
   "outputs": [
    {
     "name": "stdout",
     "output_type": "stream",
     "text": [
      "OrderedDict([(0, 10.149253731343284), (1, 89.85074626865672)])\n",
      "OrderedDict([(0, 91.40504374678332), (1, 8.594956253216676)])\n",
      "OrderedDict([(0, 84.34379825012867), (1, 15.656201749871332)])\n",
      "OrderedDict([(0, 30.355120946989192), (1, 69.64487905301081)])\n"
     ]
    }
   ],
   "source": [
    "d2_google_phish_dict = dict(d2_phish['google_index'].value_counts())\n",
    "for i in d2_google_phish_dict:\n",
    "    d2_google_phish_dict[i] = 100*d2_google_phish_dict[i]/len(d2_phish['google_index'])\n",
    "d2_google_phish_dict = collections.OrderedDict(sorted(d2_google_phish_dict.items()))\n",
    "print(d2_google_phish_dict)\n",
    "\n",
    "d2_tld_phish_dict = dict(d2_phish['tld_in_path'].value_counts())\n",
    "for i in d2_tld_phish_dict:\n",
    "    d2_tld_phish_dict[i] = 100*d2_tld_phish_dict[i]/len(d2_phish['tld_in_path'])\n",
    "d2_tld_phish_dict = collections.OrderedDict(sorted(d2_tld_phish_dict.items()))\n",
    "print(d2_tld_phish_dict)\n",
    "\n",
    "d2_url_phish_dict = dict(d2_phish['shortening_service'].value_counts())\n",
    "for i in d2_url_phish_dict:\n",
    "    d2_url_phish_dict[i] = 100*d2_url_phish_dict[i]/len(d2_phish['shortening_service'])\n",
    "d2_url_phish_dict = collections.OrderedDict(sorted(d2_url_phish_dict.items()))\n",
    "print(d2_url_phish_dict)\n",
    "\n",
    "d2_dom_phish_dict = dict(d2_phish['ip'].value_counts())\n",
    "for i in d2_dom_phish_dict:\n",
    "    d2_dom_phish_dict[i] = 100*d2_dom_phish_dict[i]/len(d2_phish['ip'])\n",
    "d2_dom_phish_dict = collections.OrderedDict(sorted(d2_dom_phish_dict.items()))\n",
    "print(d2_dom_phish_dict)"
   ]
  },
  {
   "cell_type": "code",
   "execution_count": 93,
   "metadata": {},
   "outputs": [
    {
     "name": "stdout",
     "output_type": "stream",
     "text": [
      "OrderedDict([(0, 83.04857966241252), (1, 16.951420337587486)])\n",
      "OrderedDict([(0, 95.49197200494031), (1, 4.508027995059695)])\n",
      "OrderedDict([(0, 90.99423631123919), (1, 9.005763688760807)])\n",
      "OrderedDict([(0, 39.73857554549197), (1, 60.26142445450803)])\n"
     ]
    }
   ],
   "source": [
    "d2_google_ben_dict = dict(d2_ben['google_index'].value_counts())\n",
    "for i in d2_google_ben_dict:\n",
    "    d2_google_ben_dict[i] = 100*d2_google_ben_dict[i]/len(d2_ben['google_index'])\n",
    "d2_google_ben_dict = collections.OrderedDict(sorted(d2_google_ben_dict.items()))\n",
    "print(d2_google_ben_dict)\n",
    "\n",
    "d2_tld_ben_dict = dict(d2_ben['tld_in_path'].value_counts())\n",
    "for i in d2_tld_ben_dict:\n",
    "    d2_tld_ben_dict[i] = 100*d2_tld_ben_dict[i]/len(d2_ben['tld_in_path'])\n",
    "d2_tld_ben_dict = collections.OrderedDict(sorted(d2_tld_ben_dict.items()))\n",
    "print(d2_tld_ben_dict)\n",
    "\n",
    "d2_url_ben_dict = dict(d2_ben['shortening_service'].value_counts())\n",
    "for i in d2_url_ben_dict:\n",
    "    d2_url_ben_dict[i] = 100*d2_url_ben_dict[i]/len(d2_ben['shortening_service'])\n",
    "d2_url_ben_dict = collections.OrderedDict(sorted(d2_url_ben_dict.items()))\n",
    "print(d2_url_ben_dict)\n",
    "\n",
    "d2_dom_ben_dict = dict(d2_ben['ip'].value_counts())\n",
    "for i in d2_dom_ben_dict:\n",
    "    d2_dom_ben_dict[i] = 100*d2_dom_ben_dict[i]/len(d2_ben['ip'])\n",
    "d2_dom_ben_dict = collections.OrderedDict(sorted(d2_dom_ben_dict.items()))\n",
    "print(d2_dom_ben_dict)"
   ]
  },
  {
   "cell_type": "code",
   "execution_count": 123,
   "metadata": {},
   "outputs": [
    {
     "data": {
      "image/png": "[encoded data removed]",
      "text/plain": [
       "<Figure size 640x480 with 1 Axes>"
      ]
     },
     "metadata": {},
     "output_type": "display_data"
    }
   ],
   "source": [
    "def plot_stacked_bars_horizontal_double(data1, data2, labels, feature_names):\n",
    "    \"\"\"\n",
    "    Plot horizontal stacked bar charts for two sets of instances with some distance between the bars.\n",
    "\n",
    "    Parameters:\n",
    "    - data1: 2D list or array for the first set of instances.\n",
    "    - data2: 2D list or array for the second set of instances.\n",
    "    - labels: list of labels for each instance.\n",
    "    - feature_names: list of feature names for each stack.\n",
    "    \"\"\"\n",
    "    # Convert data to numpy arrays\n",
    "    data1 = np.array(data1)\n",
    "    data2 = np.array(data2)\n",
    "\n",
    "    # Number of instances and number of features\n",
    "    num_instances, num_features = data1.shape\n",
    "\n",
    "    # Create a figure and axis\n",
    "    fig, ax = plt.subplots()\n",
    "\n",
    "    # Create the bar positions with distance between the two sets\n",
    "    bar_positions1 = np.arange(num_instances) - 0.2\n",
    "    bar_positions2 = np.arange(num_instances) + 0.2\n",
    "\n",
    "    # Initialize the left position for stacking for both datasets\n",
    "    left1 = np.zeros(num_instances)\n",
    "    left2 = np.zeros(num_instances)\n",
    "\n",
    "    # Plot each stack for the first dataset (narrower width)\n",
    "    for i in range(num_features):\n",
    "        ax.barh(bar_positions1, data1[:, i], left=left1, height=0.4, label=f\"{feature_names[i]} (yes)\")\n",
    "        left1 += data1[:, i]\n",
    "\n",
    "    # Plot each stack for the second dataset (narrower width)\n",
    "    for i in range(num_features):\n",
    "        ax.barh(bar_positions2, data2[:, i], left=left2, height=0.4, label=f\"{feature_names[i]} (no)\")\n",
    "        left2 += data2[:, i]\n",
    "\n",
    "    # Add labels and title\n",
    "    ax.set_yticks(np.arange(num_instances))\n",
    "    ax.set_yticklabels(labels)\n",
    "    ax.set_xlabel('Value')\n",
    "\n",
    "    # Add a legend at the bottom in two lines\n",
    "    ax.legend(loc='lower center', bbox_to_anchor=(0.5, -0.3), ncol=4)\n",
    "\n",
    "    plt.show()\n",
    "\n",
    "# Example usage\n",
    "data1 = [\n",
    "    [d1_google_phish_dict[0], d2_google_phish_dict[0], d1_google_phish_dict[1], d2_google_phish_dict[1]],   # Instance 1\n",
    "    [d1_tld_phish_dict[0], d2_tld_phish_dict[0], d1_tld_phish_dict[1], d2_tld_phish_dict[1]],   # Instance 2\n",
    "    [d1_url_phish_dict[0], d2_url_phish_dict[0], d1_url_phish_dict[1], d2_url_phish_dict[1]],   # Instance 3\n",
    "    [d1_dom_phish_dict[0], d2_dom_phish_dict[0], d1_dom_phish_dict[1], d2_dom_phish_dict[1]]    # Instance 4\n",
    "]\n",
    "\n",
    "data2 = [\n",
    "    [d1_google_ben_dict[0], d2_google_ben_dict[0], d1_google_ben_dict[1], d2_google_ben_dict[1]],   # Instance 1\n",
    "    [d1_tld_ben_dict[0], d2_tld_ben_dict[0], d1_tld_ben_dict[1], d2_tld_ben_dict[1]],   # Instance 2\n",
    "    [d1_url_ben_dict[0], d2_url_ben_dict[0], d1_url_ben_dict[1], d2_url_ben_dict[1]],   # Instance 3\n",
    "    [d1_dom_ben_dict[0], d2_dom_ben_dict[0], d1_dom_ben_dict[1], d2_dom_ben_dict[1]]    # Instance 4\n",
    "]\n",
    "\n",
    "\n",
    "\n",
    "labels = ['url_google_index', 'tld_present_params', 'url_shortened', 'domain_in_ip']\n",
    "dum_label = ['google_index', 'tld_in_path', 'shortening_service', 'ip']\n",
    "feature_names = ['D\\u2081 phish', 'D\\u2081 benign', 'D\\u2082 phish', 'D\\u2082 benign']\n",
    "\n",
    "plot_stacked_bars_horizontal_double(data1, data2, labels, feature_names)\n"
   ]
  },
  {
   "cell_type": "code",
   "execution_count": 116,
   "metadata": {},
   "outputs": [],
   "source": []
  }
 ],
 "metadata": {
  "kernelspec": {
   "display_name": "base",
   "language": "python",
   "name": "python3"
  },
  "language_info": {
   "codemirror_mode": {
    "name": "ipython",
    "version": 3
   },
   "file_extension": ".py",
   "mimetype": "text/x-python",
   "name": "python",
   "nbconvert_exporter": "python",
   "pygments_lexer": "ipython3",
   "version": "3.11.5"
  }
 },
 "nbformat": 4,
 "nbformat_minor": 2
}
